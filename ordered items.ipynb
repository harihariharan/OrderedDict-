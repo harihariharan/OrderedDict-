{
 "cells": [
  {
   "cell_type": "code",
   "execution_count": null,
   "id": "f8172242",
   "metadata": {},
   "outputs": [],
   "source": [
    "from collections import OrderedDict\n",
    "N = int(input());\n",
    "d = OrderedDict();\n",
    "for i in range(N):\n",
    "    item = input().split()\n",
    "    itemPrice = int(item[-1])\n",
    "    itemName = \" \".join(item[:-1])\n",
    "    if(d.get(itemName)):\n",
    "        d[itemName] += itemPrice\n",
    "    else:\n",
    "        d[itemName] = itemPrice\n",
    "for i in d.keys():\n",
    "    print(i, d[i])"
   ]
  }
 ],
 "metadata": {
  "kernelspec": {
   "display_name": "Python 3 (ipykernel)",
   "language": "python",
   "name": "python3"
  },
  "language_info": {
   "codemirror_mode": {
    "name": "ipython",
    "version": 3
   },
   "file_extension": ".py",
   "mimetype": "text/x-python",
   "name": "python",
   "nbconvert_exporter": "python",
   "pygments_lexer": "ipython3",
   "version": "3.9.7"
  }
 },
 "nbformat": 4,
 "nbformat_minor": 5
}
